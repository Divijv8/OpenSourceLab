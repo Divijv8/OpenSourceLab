{
  "cells": [
    {
      "cell_type": "markdown",
      "id": "252d106d-6b48-49d9-94ee-5f545569f253",
      "metadata": {
        "id": "252d106d-6b48-49d9-94ee-5f545569f253"
      },
      "source": [
        "<h1>ans 1</h1>"
      ]
    },
    {
      "cell_type": "code",
      "execution_count": 3,
      "id": "41ae931c-04b1-4cf8-a38f-3d79dfd98dd0",
      "metadata": {
        "id": "41ae931c-04b1-4cf8-a38f-3d79dfd98dd0",
        "outputId": "5c83d764-50da-4842-dc3b-631b397d1e41"
      },
      "outputs": [
        {
          "name": "stdout",
          "output_type": "stream",
          "text": [
            "apple\n",
            "strawberry\n",
            "['banana', 'orange', 'pineapple']\n"
          ]
        }
      ],
      "source": [
        "fruits = [\"apple\", \"banana\", \"orange\", \"pineapple\", \"strawberry\"]\n",
        "n = len(fruits)\n",
        "print(fruits[0])\n",
        "print(fruits[n-1])\n",
        "\n",
        "print(fruits[1:n-1]) #slicing"
      ]
    },
    {
      "cell_type": "markdown",
      "id": "cdad1761-879d-42f0-8e2b-bfb6ae3def5a",
      "metadata": {
        "id": "cdad1761-879d-42f0-8e2b-bfb6ae3def5a"
      },
      "source": [
        "<h1>ans 2</h1>"
      ]
    },
    {
      "cell_type": "code",
      "execution_count": 4,
      "id": "121de3a4-b79e-445f-bdd4-7a61b55159ee",
      "metadata": {
        "colab": {
          "base_uri": "https://localhost:8080/"
        },
        "id": "121de3a4-b79e-445f-bdd4-7a61b55159ee",
        "outputId": "22de0789-0f39-4fa5-8264-9811cea0e4cf"
      },
      "outputs": [
        {
          "name": "stdout",
          "output_type": "stream",
          "text": [
            "The age of Supra is : 20\n",
            "Updated Dict: {'Divij': 21, 'Avinash': 20, 'Supra': 20, 'David': 23, 'Eve': 19, 'Aniket': 16}\n"
          ]
        }
      ],
      "source": [
        "students = {\n",
        "    \"Divij\" : 21,\n",
        "    \"Avinash\" : 20,\n",
        "    \"Supra\" : 20,\n",
        "    \"David\": 23,\n",
        "    \"Eve\": 19\n",
        "}\n",
        "\n",
        "student_name = \"Supra\"\n",
        "print(f\"The age of {student_name} is : {students[student_name]}\") #f is for considering the variables in between\n",
        "\n",
        "students[\"Aniket\"] = 16\n",
        "\n",
        "print(f\"Updated Dict: {students}\")"
      ]
    },
    {
      "cell_type": "markdown",
      "id": "v1d5bI6Qnv6r",
      "metadata": {
        "id": "v1d5bI6Qnv6r"
      },
      "source": [
        "#Ans 3"
      ]
    },
    {
      "cell_type": "code",
      "execution_count": 5,
      "id": "7VD7PiSWnx0P",
      "metadata": {
        "colab": {
          "base_uri": "https://localhost:8080/"
        },
        "id": "7VD7PiSWnx0P",
        "outputId": "3f98f29a-afd4-400b-92d5-cb5a2a474f8c"
      },
      "outputs": [
        {
          "name": "stdout",
          "output_type": "stream",
          "text": [
            "Original List: [1, 2, 3, 4, 5, 6, 3, 4, 5, 2]\n",
            "Duplicates: [2, 3, 4, 5]\n"
          ]
        }
      ],
      "source": [
        "def duplicate(numbers):\n",
        "  seen = set();\n",
        "  duplicates = set()\n",
        "  for number in numbers:\n",
        "    if(number in seen):\n",
        "      duplicates.add(number)\n",
        "    else:\n",
        "      seen.add(number)\n",
        "  return list(duplicates)\n",
        "\n",
        "my_list = [1,2,3,4,5,6,3,4,5,2]\n",
        "print(f\"Original List: {my_list}\")\n",
        "print(f\"Duplicates: {duplicate(my_list)}\")"
      ]
    },
    {
      "cell_type": "markdown",
      "id": "5JvtagvIo0a8",
      "metadata": {
        "id": "5JvtagvIo0a8"
      },
      "source": [
        "#Ans 4"
      ]
    },
    {
      "cell_type": "code",
      "execution_count": 6,
      "id": "Wh5cZmgJo1wb",
      "metadata": {
        "colab": {
          "base_uri": "https://localhost:8080/"
        },
        "id": "Wh5cZmgJo1wb",
        "outputId": "ff9d4438-1d9f-4d2c-dd8a-988f2694224b"
      },
      "outputs": [
        {
          "name": "stdout",
          "output_type": "stream",
          "text": [
            "Original List: [1, 2, 3, 4, 5, 6, 7, 8, 9]\n",
            "Grouped List: [[1, 2, 3], [4, 5, 6], [7, 8, 9]]\n"
          ]
        }
      ],
      "source": [
        "def group(input, size):\n",
        "    # to split a list into smaller lists of given size\n",
        "    return [input[i:i+size] for i in range(0, len(input), size)]\n",
        "\n",
        "my_list = [1, 2, 3, 4, 5, 6, 7, 8, 9]\n",
        "size = 3\n",
        "print(f\"Original List: {my_list}\")\n",
        "print(f\"Grouped List: {group(my_list, size)}\")\n"
      ]
    },
    {
      "cell_type": "markdown",
      "id": "_vUHssYps1Ak",
      "metadata": {
        "id": "_vUHssYps1Ak"
      },
      "source": [
        "#Ans 5"
      ]
    },
    {
      "cell_type": "code",
      "execution_count": 7,
      "id": "2XGGgF5Xq2QM",
      "metadata": {
        "colab": {
          "base_uri": "https://localhost:8080/"
        },
        "id": "2XGGgF5Xq2QM",
        "outputId": "c0a8e492-5cfc-47fa-8599-e974473c5e77"
      },
      "outputs": [
        {
          "name": "stdout",
          "output_type": "stream",
          "text": [
            "Original List: ['apple', 'banana', 'kiwi', 'orange', 'grape']\n",
            "Sorted List: ['kiwi', 'apple', 'grape', 'banana', 'orange']\n",
            "\n",
            "Original List: ['a.txt', 'b.py', 'c.cpp', 'd.java', 'e.txt']\n",
            "Sorted List: ['c.cpp', 'd.java', 'b.py', 'a.txt', 'e.txt']\n"
          ]
        }
      ],
      "source": [
        "def lensort(string_list):\n",
        "  return sorted(string_list, key = len)\n",
        "\n",
        "def extsort(file_list):\n",
        "  return sorted(file_list, key=lambda file: file.split('.')[-1])\n",
        "\n",
        "strings = [\"apple\", \"banana\", \"kiwi\", \"orange\", \"grape\"]\n",
        "print(f\"Original List: {strings}\")\n",
        "print(f\"Sorted List: {lensort(strings)}\")\n",
        "\n",
        "files = [\"a.txt\", \"b.py\", \"c.cpp\", \"d.java\", \"e.txt\"]\n",
        "print(f\"\\nOriginal List: {files}\")\n",
        "print(f\"Sorted List: {extsort(files)}\")"
      ]
    },
    {
      "cell_type": "markdown",
      "id": "ErSSpE3R5GR6",
      "metadata": {
        "id": "ErSSpE3R5GR6"
      },
      "source": [
        "#Ans 6"
      ]
    },
    {
      "cell_type": "code",
      "execution_count": 8,
      "id": "Ak17-IFj5H4E",
      "metadata": {
        "colab": {
          "base_uri": "https://localhost:8080/"
        },
        "id": "Ak17-IFj5H4E",
        "outputId": "f36c3b95-8290-4edc-bb15-cb3c6f8fad5a"
      },
      "outputs": [
        {
          "name": "stdout",
          "output_type": "stream",
          "text": [
            "--- Reading the File ---\n",
            "This is the first line. \n",
            "This is the second line.\n",
            "This is the third line.\n",
            "\n",
            "--- Reading the File Line by Line ---\n",
            "Line 1: This is the first line.\n",
            "Line 2: This is the second line.\n"
          ]
        }
      ],
      "source": [
        "#creating and writing on file\n",
        "with open(\"sample.txt\", \"w\") as f:\n",
        "  f.write(\"This is the first line. \\n\")\n",
        "  f.writelines([\"This is the second line.\\n\", \"This is the third line.\\n\"])\n",
        "\n",
        "#Read the entire file\n",
        "with open(\"sample.txt\", \"r\") as f:\n",
        "  content = f.read()\n",
        "  print(\"--- Reading the File ---\")\n",
        "  print(content)\n",
        "\n",
        "#read the file line by line\n",
        "with open(\"sample.txt\", \"r\") as f:\n",
        "  print(\"--- Reading the File Line by Line ---\")\n",
        "  line1 = f.readline()\n",
        "  print(f\"Line 1: {line1.strip()}\")\n",
        "  line2 = f.readline()\n",
        "  print(f\"Line 2: {line2.strip()}\")"
      ]
    },
    {
      "cell_type": "markdown",
      "id": "S0czeZc8hNs1",
      "metadata": {
        "id": "S0czeZc8hNs1"
      },
      "source": [
        "#Ans 7"
      ]
    },
    {
      "cell_type": "code",
      "execution_count": 9,
      "id": "JSzz48m5hMGr",
      "metadata": {
        "colab": {
          "base_uri": "https://localhost:8080/"
        },
        "id": "JSzz48m5hMGr",
        "outputId": "7b9e0057-55c8-4dee-acc4-9aab0b317390"
      },
      "outputs": [
        {
          "name": "stdout",
          "output_type": "stream",
          "text": [
            "Lines: 3, Words: 15, Characters: 74\n"
          ]
        }
      ],
      "source": [
        "def file_stats(filename):\n",
        "    try:\n",
        "        with open(filename, \"r\") as f:\n",
        "            lines = f.readlines()\n",
        "            num_lines = len(lines)\n",
        "            num_words = sum(len(line.split()) for line in lines)\n",
        "            num_chars = sum(len(line) for line in lines)\n",
        "            return num_lines, num_words, num_chars\n",
        "    except FileNotFoundError:\n",
        "        return 0, 0, 0\n",
        "\n",
        "# Using sample.txt\n",
        "lines, words, chars = file_stats(\"sample.txt\")\n",
        "print(f\"Lines: {lines}, Words: {words}, Characters: {chars}\")"
      ]
    },
    {
      "cell_type": "markdown",
      "id": "ea5WatwkiW08",
      "metadata": {
        "id": "ea5WatwkiW08"
      },
      "source": [
        "#Ans 8"
      ]
    },
    {
      "cell_type": "code",
      "execution_count": 10,
      "id": "KWDKmVowibyA",
      "metadata": {
        "colab": {
          "base_uri": "https://localhost:8080/"
        },
        "id": "KWDKmVowibyA",
        "outputId": "ba5135ee-013a-4eb5-d50d-8f0a4c8bc8d6"
      },
      "outputs": [
        {
          "name": "stdout",
          "output_type": "stream",
          "text": [
            "This is the third line.\n",
            "This is the second line.\n",
            "This is the first line.\n"
          ]
        }
      ],
      "source": [
        "def reverse_file(filename):\n",
        "    try:\n",
        "        with open(filename, \"r\") as f:\n",
        "            lines = f.readlines()\n",
        "        for line in reversed(lines):\n",
        "            print(line.strip())\n",
        "    except FileNotFoundError:\n",
        "        print(f\"Error: File '{filename}' not found.\")\n",
        "\n",
        "reverse_file(\"sample.txt\")"
      ]
    },
    {
      "cell_type": "markdown",
      "id": "H_WWCCMImwex",
      "metadata": {
        "id": "H_WWCCMImwex"
      },
      "source": [
        "#Ans 9"
      ]
    },
    {
      "cell_type": "code",
      "execution_count": 11,
      "id": "aRJyTMg6mzjs",
      "metadata": {
        "colab": {
          "base_uri": "https://localhost:8080/"
        },
        "id": "aRJyTMg6mzjs",
        "outputId": "7f89f9b6-e108-426a-9f7b-fec8a4dd96f2"
      },
      "outputs": [
        {
          "name": "stdout",
          "output_type": "stream",
          "text": [
            ".enil tsrif eht si sihT\n",
            ".enil dnoces eht si sihT\n",
            ".enil driht eht si sihT\n"
          ]
        }
      ],
      "source": [
        "def reverse_each(filename):\n",
        "  try:\n",
        "    with open(filename, 'r') as f:\n",
        "      for line in f:\n",
        "        print(line.strip()[::-1])\n",
        "  except FileNotFoundError:\n",
        "    print(f\"Error: File '{filename}' not found.\")\n",
        "\n",
        "reverse_each(\"sample.txt\")"
      ]
    },
    {
      "cell_type": "markdown",
      "id": "8xKAv0A2nFB7",
      "metadata": {
        "id": "8xKAv0A2nFB7"
      },
      "source": [
        "#Ans 10"
      ]
    },
    {
      "cell_type": "code",
      "execution_count": 12,
      "id": "GjGyiujunDvi",
      "metadata": {
        "colab": {
          "base_uri": "https://localhost:8080/"
        },
        "id": "GjGyiujunDvi",
        "outputId": "2878f504-054d-4858-bc3e-db0c8b109d98"
      },
      "outputs": [
        {
          "name": "stdout",
          "output_type": "stream",
          "text": [
            "This is a very ling\n",
            "line of text that\n",
            "needs to be wrapped\n",
            "to fit within a\n",
            "certain width.\n"
          ]
        }
      ],
      "source": [
        "import sys\n",
        "import textwrap\n",
        "\n",
        "def wrap_file(filename, width):\n",
        "  try:\n",
        "    with open(filename, 'r') as f:\n",
        "      for line in f:\n",
        "        print(textwrap.fill(line, width=width))\n",
        "  except FileNotFoundError:\n",
        "    print(f\"Error: File '{filename}' not found.\")\n",
        "\n",
        "with open(\"long_line.txt\", \"w\") as f:\n",
        "  f.write(\"This is a very ling line of text that needs to be wrapped to fit within a certain width.\")\n",
        "\n",
        "wrap_file(\"long_line.txt\", 20)"
      ]
    },
    {
      "cell_type": "markdown",
      "id": "qWXU_HICoR5N",
      "metadata": {
        "id": "qWXU_HICoR5N"
      },
      "source": [
        "#Ans 11"
      ]
    },
    {
      "cell_type": "code",
      "execution_count": 13,
      "id": "Om26uRGyoT6N",
      "metadata": {
        "colab": {
          "base_uri": "https://localhost:8080/"
        },
        "id": "Om26uRGyoT6N",
        "outputId": "a4b0aeab-9579-4e80-fd7c-fc6ed0f9624e"
      },
      "outputs": [
        {
          "name": "stdout",
          "output_type": "stream",
          "text": [
            "Original List: [1, 2, 3, 4, 5]\n",
            "Squared List: [1, 4, 9, 16, 25]\n"
          ]
        }
      ],
      "source": [
        "def map_comprehension(func, iterable):\n",
        "  return [func(item) for item in iterable]\n",
        "\n",
        "numbers = [1, 2, 3, 4, 5]\n",
        "squared_numbers = map_comprehension(lambda x: x**2, numbers)\n",
        "print(f\"Original List: {numbers}\")\n",
        "print(f\"Squared List: {squared_numbers}\")\n"
      ]
    },
    {
      "cell_type": "markdown",
      "id": "X1V4cK62oitP",
      "metadata": {
        "id": "X1V4cK62oitP"
      },
      "source": [
        "#Ans 12"
      ]
    },
    {
      "cell_type": "code",
      "execution_count": 14,
      "id": "RdWGTDnnokI8",
      "metadata": {
        "colab": {
          "base_uri": "https://localhost:8080/"
        },
        "id": "RdWGTDnnokI8",
        "outputId": "765566f4-add4-4fa4-9729-01cfe4dd984e"
      },
      "outputs": [
        {
          "name": "stdout",
          "output_type": "stream",
          "text": [
            "Original List: [1, 2, 3, 4, 5, 6, 7, 8, 9, 10]\n",
            "Even Numbers: [2, 4, 6, 8, 10]\n"
          ]
        }
      ],
      "source": [
        "def filter_comprehension(func, iterable):\n",
        "  return [item for item in iterable if func(item)]\n",
        "\n",
        "numbers = [1,2,3,4,5,6,7,8,9,10]\n",
        "even_numbers = filter_comprehension(lambda x: x % 2 == 0, numbers)\n",
        "print(f\"Original List: {numbers}\")\n",
        "print(f\"Even Numbers: {even_numbers}\")"
      ]
    },
    {
      "cell_type": "markdown",
      "id": "JZOpLPREoueN",
      "metadata": {
        "id": "JZOpLPREoueN"
      },
      "source": [
        "#Ans 13"
      ]
    },
    {
      "cell_type": "code",
      "execution_count": 15,
      "id": "3P-snmNNoyNK",
      "metadata": {
        "colab": {
          "base_uri": "https://localhost:8080/"
        },
        "id": "3P-snmNNoyNK",
        "outputId": "2dc15627-3e99-42bf-8402-a14a53c301ed"
      },
      "outputs": [
        {
          "name": "stdout",
          "output_type": "stream",
          "text": [
            "[(1, 2, 3), (1, 3, 4), (1, 4, 5), (2, 3, 5), (1, 5, 6), (2, 4, 6), (1, 6, 7), (2, 5, 7), (3, 4, 7), (1, 7, 8), (2, 6, 8), (3, 5, 8), (1, 8, 9), (2, 7, 9), (3, 6, 9), (4, 5, 9)]\n"
          ]
        }
      ],
      "source": [
        "def triplets(n):\n",
        "  triplets = []\n",
        "  for c in range(1, n):\n",
        "    for a in range(1, c):\n",
        "      b = c-a\n",
        "      if a < b:\n",
        "        triplets.append((a, b, c))\n",
        "  return triplets\n",
        "\n",
        "print(triplets(10))"
      ]
    },
    {
      "cell_type": "markdown",
      "id": "7dg65UNPpwHO",
      "metadata": {
        "id": "7dg65UNPpwHO"
      },
      "source": [
        "#Ans 14"
      ]
    },
    {
      "cell_type": "code",
      "execution_count": 16,
      "id": "_qEmpcUqpxdt",
      "metadata": {
        "colab": {
          "base_uri": "https://localhost:8080/"
        },
        "id": "_qEmpcUqpxdt",
        "outputId": "4b505155-1bc7-4169-a0dc-25d35af22eee"
      },
      "outputs": [
        {
          "name": "stdout",
          "output_type": "stream",
          "text": [
            "Parsed Data:\n",
            " [['Name', 'Age', 'City'], ['Divij', '21', 'Delhi'], ['Sputnik', '20', 'Varanasi']]\n"
          ]
        }
      ],
      "source": [
        "import csv\n",
        "\n",
        "def parse_csv(filename):\n",
        "  data = []\n",
        "  try:\n",
        "    with open(filename, 'r', newline='') as f:\n",
        "      reader = csv.reader(f)\n",
        "      for row in reader:\n",
        "        data.append(row)\n",
        "  except FileNotFoundError:\n",
        "    print(f\"Error: File '{filename}' not found.\")\n",
        "  return data\n",
        "\n",
        "with open(\"data.csv\", \"w\", newline=\"\") as f:\n",
        "  writer = csv.writer(f)\n",
        "  writer.writerow([\"Name\", \"Age\", \"City\"])\n",
        "  writer.writerow([\"Divij\", 21, \"Delhi\"])\n",
        "  writer.writerow([\"Sputnik\", 20, \"Varanasi\"])\n",
        "\n",
        "parsed_data = parse_csv(\"data.csv\")\n",
        "print(f\"Parsed Data:\\n {parsed_data}\")"
      ]
    },
    {
      "cell_type": "markdown",
      "id": "wsomyfGcv31u",
      "metadata": {
        "id": "wsomyfGcv31u"
      },
      "source": [
        "#MUTATE STRING"
      ]
    },
    {
      "cell_type": "code",
      "execution_count": 17,
      "id": "xAbS8Rbev2y5",
      "metadata": {
        "colab": {
          "base_uri": "https://localhost:8080/"
        },
        "id": "xAbS8Rbev2y5",
        "outputId": "0cbf0f70-99f4-4e87-e837-e098023c8753"
      },
      "outputs": [
        {
          "name": "stdout",
          "output_type": "stream",
          "text": [
            "Number of mutations for 'hello': 284\n"
          ]
        }
      ],
      "source": [
        "def mutate(word):\n",
        "    letters = 'abcdefghijklmnopqrstuvwxyz'\n",
        "    splits = [(word[:i], word[i:]) for i in range(len(word) + 1)]\n",
        "\n",
        "    deletes = [L + R[1:] for L, R in splits if R]\n",
        "    transposes = [L + R[1] + R[0] + R[2:] for L, R in splits if len(R)>1]\n",
        "    replaces = [L + c + R[1:] for L, R in splits if R for c in letters]\n",
        "    inserts = [L + c + R for L, R in splits for c in letters]\n",
        "\n",
        "    return set(deletes + transposes + replaces + inserts)\n",
        "\n",
        "mutations = mutate(\"hello\")\n",
        "print(f\"Number of mutations for 'hello': {len(mutations)}\")"
      ]
    },
    {
      "cell_type": "markdown",
      "id": "hn2hzp-EwmiI",
      "metadata": {
        "id": "hn2hzp-EwmiI"
      },
      "source": [
        "#Ans 15"
      ]
    },
    {
      "cell_type": "code",
      "execution_count": 18,
      "id": "jmFhNVDPwp0Y",
      "metadata": {
        "colab": {
          "base_uri": "https://localhost:8080/"
        },
        "id": "jmFhNVDPwp0Y",
        "outputId": "95c59f5e-f0a8-4d32-f628-a94e54d8beb9"
      },
      "outputs": [
        {
          "name": "stdout",
          "output_type": "stream",
          "text": [
            "'Hello' and 'Hallo' are nearly : True\n",
            "'python' and 'pythno' are nearly equal: True\n",
            "'java' and 'jaxa' are nearly equal: True\n",
            "'apple' and 'apply' are nearly equal: True\n"
          ]
        }
      ],
      "source": [
        "def nearly_equal(a,b):\n",
        "  return a in mutate(b)\n",
        "\n",
        "print(f\"'Hello' and 'Hallo' are nearly : {nearly_equal('Hello', 'Hallo')}\")\n",
        "print(f\"'python' and 'pythno' are nearly equal: {nearly_equal('python', 'pythno')}\")\n",
        "print(f\"'java' and 'jaxa' are nearly equal: {nearly_equal('java', 'jaxa')}\")\n",
        "print(f\"'apple' and 'apply' are nearly equal: {nearly_equal('apple', 'apply')}\")"
      ]
    },
    {
      "cell_type": "markdown",
      "id": "IJElfgYOypKH",
      "metadata": {
        "id": "IJElfgYOypKH"
      },
      "source": [
        "#Ans 16"
      ]
    },
    {
      "cell_type": "code",
      "execution_count": 19,
      "id": "t9CIvk-Dyqqb",
      "metadata": {
        "colab": {
          "base_uri": "https://localhost:8080/"
        },
        "id": "t9CIvk-Dyqqb",
        "outputId": "f91519d7-8152-4272-ed4f-83984e1672b9"
      },
      "outputs": [
        {
          "name": "stdout",
          "output_type": "stream",
          "text": [
            "Character Frequencies: Counter({' ': 4, 'e': 2, 'f': 2, 'u': 2, 'n': 2, 'x': 2, 'r': 2, 'd': 1, 'm': 1, 'y': 1, '_': 1, 'c': 1, '(': 1, ')': 1, ':': 1, '\\n': 1, 't': 1, '+': 1, '1': 1})\n"
          ]
        }
      ],
      "source": [
        "from collections import Counter\n",
        "\n",
        "def char_frequency(filename):\n",
        "  try:\n",
        "    with open(filename, 'r') as f:\n",
        "      return Counter(f.read())\n",
        "  except FileNotFoundError:\n",
        "    return Counter()\n",
        "\n",
        "\n",
        "with open(\"test.py\", \"w\") as f:\n",
        "  f.write(\"def my_func(x):\\n  return x+1\")\n",
        "\n",
        "freq = char_frequency(\"test.py\")\n",
        "print(f\"Character Frequencies: {freq}\")"
      ]
    },
    {
      "cell_type": "markdown",
      "id": "TrkHHKy61Z9M",
      "metadata": {
        "id": "TrkHHKy61Z9M"
      },
      "source": [
        "#Ans 17"
      ]
    },
    {
      "cell_type": "code",
      "execution_count": 20,
      "id": "Nc-s_dg91bj9",
      "metadata": {
        "colab": {
          "base_uri": "https://localhost:8080/"
        },
        "id": "Nc-s_dg91bj9",
        "outputId": "1d77d165-e7d1-405c-a776-f2c598f5bb4f"
      },
      "outputs": [
        {
          "name": "stdout",
          "output_type": "stream",
          "text": [
            "Anagrams in ['eat', 'ate', 'done', 'tea', 'soup', 'node', 'tan', 'nat']:\n",
            "[['eat', 'ate', 'tea'], ['done', 'node'], ['tan', 'nat']]\n"
          ]
        }
      ],
      "source": [
        "from collections import defaultdict\n",
        "\n",
        "def find_anagrams(words):\n",
        "  \"\"\"\n",
        "  Finds and groups anagrams in a given list of words.\n",
        "  \"\"\"\n",
        "  anagram_map = defaultdict(list)\n",
        "  for word in words:\n",
        "    sorted_word = \"\".join(sorted(word))\n",
        "    anagram_map[sorted_word].append(word)\n",
        "\n",
        "  return [group for group in anagram_map.values() if len(group) > 1]\n",
        "\n",
        "# Example usage:\n",
        "word_list = ['eat', 'ate', 'done', 'tea', 'soup', 'node', 'tan', 'nat']\n",
        "anagram_groups = find_anagrams(word_list)\n",
        "print(f\"Anagrams in {word_list}:\")\n",
        "print(anagram_groups)"
      ]
    }
  ],
  "metadata": {
    "colab": {
      "provenance": []
    },
    "kernelspec": {
      "display_name": "Python 3",
      "language": "python",
      "name": "python3"
    },
    "language_info": {
      "codemirror_mode": {
        "name": "ipython",
        "version": 3
      },
      "file_extension": ".py",
      "mimetype": "text/x-python",
      "name": "python",
      "nbconvert_exporter": "python",
      "pygments_lexer": "ipython3",
      "version": "3.13.1"
    }
  },
  "nbformat": 4,
  "nbformat_minor": 5
}
